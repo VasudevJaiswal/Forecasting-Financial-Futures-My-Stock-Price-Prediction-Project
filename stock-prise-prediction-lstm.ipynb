{
 "cells": [
  {
   "cell_type": "markdown",
   "metadata": {},
   "source": [
    "# Stock Price Prediction Project"
   ]
  },
  {
   "cell_type": "code",
   "execution_count": 1,
   "metadata": {
    "execution": {
     "iopub.execute_input": "2023-09-13T15:31:16.297069Z",
     "iopub.status.busy": "2023-09-13T15:31:16.296672Z",
     "iopub.status.idle": "2023-09-13T15:31:16.337504Z",
     "shell.execute_reply": "2023-09-13T15:31:16.336605Z",
     "shell.execute_reply.started": "2023-09-13T15:31:16.297037Z"
    }
   },
   "outputs": [
    {
     "name": "stdout",
     "output_type": "stream",
     "text": [
      "3.9.12\n"
     ]
    }
   ],
   "source": [
    "from platform import python_version\n",
    "print(python_version())"
   ]
  },
  {
   "cell_type": "code",
   "execution_count": 2,
   "metadata": {},
   "outputs": [
    {
     "name": "stdout",
     "output_type": "stream",
     "text": [
      "Requirement already satisfied: keras in c:\\users\\dell\\anaconda3\\lib\\site-packages (2.13.1)\n",
      "Note: you may need to restart the kernel to use updated packages.\n"
     ]
    }
   ],
   "source": [
    "pip install keras"
   ]
  },
  {
   "cell_type": "code",
   "execution_count": 3,
   "metadata": {
    "execution": {
     "iopub.execute_input": "2023-09-13T15:31:16.340237Z",
     "iopub.status.busy": "2023-09-13T15:31:16.339036Z",
     "iopub.status.idle": "2023-09-13T15:31:27.854127Z",
     "shell.execute_reply": "2023-09-13T15:31:27.853005Z",
     "shell.execute_reply.started": "2023-09-13T15:31:16.340188Z"
    }
   },
   "outputs": [
    {
     "name": "stderr",
     "output_type": "stream",
     "text": [
      "C:\\Users\\Dell\\anaconda3\\lib\\site-packages\\scipy\\__init__.py:146: UserWarning: A NumPy version >=1.16.5 and <1.23.0 is required for this version of SciPy (detected version 1.24.3\n",
      "  warnings.warn(f\"A NumPy version >={np_minversion} and <{np_maxversion}\"\n"
     ]
    }
   ],
   "source": [
    "import numpy as np\n",
    "import pandas as pd\n",
    "import matplotlib.pyplot as plt\n",
    "\n",
    "import math\n",
    "import seaborn as sb\n",
    "from sklearn.preprocessing import MinMaxScaler\n",
    "from keras.models import Sequential\n",
    "from keras.layers import Dense,LSTM\n",
    " \n",
    "import warnings\n",
    "warnings.filterwarnings('ignore')"
   ]
  },
  {
   "cell_type": "markdown",
   "metadata": {},
   "source": [
    "## Importing Data"
   ]
  },
  {
   "cell_type": "code",
   "execution_count": 4,
   "metadata": {
    "execution": {
     "iopub.execute_input": "2023-09-13T15:31:27.857846Z",
     "iopub.status.busy": "2023-09-13T15:31:27.855652Z",
     "iopub.status.idle": "2023-09-13T15:31:27.881513Z",
     "shell.execute_reply": "2023-09-13T15:31:27.880215Z",
     "shell.execute_reply.started": "2023-09-13T15:31:27.857787Z"
    }
   },
   "outputs": [],
   "source": [
    "stock_df=pd.read_csv('Stock_Price_data_set.csv')"
   ]
  },
  {
   "cell_type": "code",
   "execution_count": 5,
   "metadata": {
    "execution": {
     "iopub.execute_input": "2023-09-13T15:31:27.887037Z",
     "iopub.status.busy": "2023-09-13T15:31:27.884955Z",
     "iopub.status.idle": "2023-09-13T15:31:27.920367Z",
     "shell.execute_reply": "2023-09-13T15:31:27.918976Z",
     "shell.execute_reply.started": "2023-09-13T15:31:27.886988Z"
    }
   },
   "outputs": [
    {
     "data": {
      "text/html": [
       "<div>\n",
       "<style scoped>\n",
       "    .dataframe tbody tr th:only-of-type {\n",
       "        vertical-align: middle;\n",
       "    }\n",
       "\n",
       "    .dataframe tbody tr th {\n",
       "        vertical-align: top;\n",
       "    }\n",
       "\n",
       "    .dataframe thead th {\n",
       "        text-align: right;\n",
       "    }\n",
       "</style>\n",
       "<table border=\"1\" class=\"dataframe\">\n",
       "  <thead>\n",
       "    <tr style=\"text-align: right;\">\n",
       "      <th></th>\n",
       "      <th>Date</th>\n",
       "      <th>Open</th>\n",
       "      <th>High</th>\n",
       "      <th>Low</th>\n",
       "      <th>Close</th>\n",
       "      <th>Adj Close</th>\n",
       "      <th>Volume</th>\n",
       "    </tr>\n",
       "  </thead>\n",
       "  <tbody>\n",
       "    <tr>\n",
       "      <th>0</th>\n",
       "      <td>2018-02-05</td>\n",
       "      <td>262.000000</td>\n",
       "      <td>267.899994</td>\n",
       "      <td>250.029999</td>\n",
       "      <td>254.259995</td>\n",
       "      <td>254.259995</td>\n",
       "      <td>11896100</td>\n",
       "    </tr>\n",
       "    <tr>\n",
       "      <th>1</th>\n",
       "      <td>2018-02-06</td>\n",
       "      <td>247.699997</td>\n",
       "      <td>266.700012</td>\n",
       "      <td>245.000000</td>\n",
       "      <td>265.720001</td>\n",
       "      <td>265.720001</td>\n",
       "      <td>12595800</td>\n",
       "    </tr>\n",
       "    <tr>\n",
       "      <th>2</th>\n",
       "      <td>2018-02-07</td>\n",
       "      <td>266.579987</td>\n",
       "      <td>272.450012</td>\n",
       "      <td>264.329987</td>\n",
       "      <td>264.559998</td>\n",
       "      <td>264.559998</td>\n",
       "      <td>8981500</td>\n",
       "    </tr>\n",
       "    <tr>\n",
       "      <th>3</th>\n",
       "      <td>2018-02-08</td>\n",
       "      <td>267.079987</td>\n",
       "      <td>267.619995</td>\n",
       "      <td>250.000000</td>\n",
       "      <td>250.100006</td>\n",
       "      <td>250.100006</td>\n",
       "      <td>9306700</td>\n",
       "    </tr>\n",
       "    <tr>\n",
       "      <th>4</th>\n",
       "      <td>2018-02-09</td>\n",
       "      <td>253.850006</td>\n",
       "      <td>255.800003</td>\n",
       "      <td>236.110001</td>\n",
       "      <td>249.470001</td>\n",
       "      <td>249.470001</td>\n",
       "      <td>16906900</td>\n",
       "    </tr>\n",
       "    <tr>\n",
       "      <th>...</th>\n",
       "      <td>...</td>\n",
       "      <td>...</td>\n",
       "      <td>...</td>\n",
       "      <td>...</td>\n",
       "      <td>...</td>\n",
       "      <td>...</td>\n",
       "      <td>...</td>\n",
       "    </tr>\n",
       "    <tr>\n",
       "      <th>1004</th>\n",
       "      <td>2022-01-31</td>\n",
       "      <td>401.970001</td>\n",
       "      <td>427.700012</td>\n",
       "      <td>398.200012</td>\n",
       "      <td>427.140015</td>\n",
       "      <td>427.140015</td>\n",
       "      <td>20047500</td>\n",
       "    </tr>\n",
       "    <tr>\n",
       "      <th>1005</th>\n",
       "      <td>2022-02-01</td>\n",
       "      <td>432.959991</td>\n",
       "      <td>458.480011</td>\n",
       "      <td>425.540009</td>\n",
       "      <td>457.130005</td>\n",
       "      <td>457.130005</td>\n",
       "      <td>22542300</td>\n",
       "    </tr>\n",
       "    <tr>\n",
       "      <th>1006</th>\n",
       "      <td>2022-02-02</td>\n",
       "      <td>448.250000</td>\n",
       "      <td>451.980011</td>\n",
       "      <td>426.480011</td>\n",
       "      <td>429.480011</td>\n",
       "      <td>429.480011</td>\n",
       "      <td>14346000</td>\n",
       "    </tr>\n",
       "    <tr>\n",
       "      <th>1007</th>\n",
       "      <td>2022-02-03</td>\n",
       "      <td>421.440002</td>\n",
       "      <td>429.260010</td>\n",
       "      <td>404.279999</td>\n",
       "      <td>405.600006</td>\n",
       "      <td>405.600006</td>\n",
       "      <td>9905200</td>\n",
       "    </tr>\n",
       "    <tr>\n",
       "      <th>1008</th>\n",
       "      <td>2022-02-04</td>\n",
       "      <td>407.309998</td>\n",
       "      <td>412.769989</td>\n",
       "      <td>396.640015</td>\n",
       "      <td>410.170013</td>\n",
       "      <td>410.170013</td>\n",
       "      <td>7782400</td>\n",
       "    </tr>\n",
       "  </tbody>\n",
       "</table>\n",
       "<p>1009 rows × 7 columns</p>\n",
       "</div>"
      ],
      "text/plain": [
       "            Date        Open        High         Low       Close   Adj Close  \\\n",
       "0     2018-02-05  262.000000  267.899994  250.029999  254.259995  254.259995   \n",
       "1     2018-02-06  247.699997  266.700012  245.000000  265.720001  265.720001   \n",
       "2     2018-02-07  266.579987  272.450012  264.329987  264.559998  264.559998   \n",
       "3     2018-02-08  267.079987  267.619995  250.000000  250.100006  250.100006   \n",
       "4     2018-02-09  253.850006  255.800003  236.110001  249.470001  249.470001   \n",
       "...          ...         ...         ...         ...         ...         ...   \n",
       "1004  2022-01-31  401.970001  427.700012  398.200012  427.140015  427.140015   \n",
       "1005  2022-02-01  432.959991  458.480011  425.540009  457.130005  457.130005   \n",
       "1006  2022-02-02  448.250000  451.980011  426.480011  429.480011  429.480011   \n",
       "1007  2022-02-03  421.440002  429.260010  404.279999  405.600006  405.600006   \n",
       "1008  2022-02-04  407.309998  412.769989  396.640015  410.170013  410.170013   \n",
       "\n",
       "        Volume  \n",
       "0     11896100  \n",
       "1     12595800  \n",
       "2      8981500  \n",
       "3      9306700  \n",
       "4     16906900  \n",
       "...        ...  \n",
       "1004  20047500  \n",
       "1005  22542300  \n",
       "1006  14346000  \n",
       "1007   9905200  \n",
       "1008   7782400  \n",
       "\n",
       "[1009 rows x 7 columns]"
      ]
     },
     "execution_count": 5,
     "metadata": {},
     "output_type": "execute_result"
    }
   ],
   "source": [
    "stock_df"
   ]
  },
  {
   "cell_type": "markdown",
   "metadata": {},
   "source": [
    "## Exploring Data"
   ]
  },
  {
   "cell_type": "code",
   "execution_count": 6,
   "metadata": {
    "execution": {
     "iopub.execute_input": "2023-09-13T15:31:27.923063Z",
     "iopub.status.busy": "2023-09-13T15:31:27.921896Z",
     "iopub.status.idle": "2023-09-13T15:31:27.930544Z",
     "shell.execute_reply": "2023-09-13T15:31:27.929028Z",
     "shell.execute_reply.started": "2023-09-13T15:31:27.923029Z"
    }
   },
   "outputs": [
    {
     "data": {
      "text/plain": [
       "(1009, 7)"
      ]
     },
     "execution_count": 6,
     "metadata": {},
     "output_type": "execute_result"
    }
   ],
   "source": [
    "stock_df.shape"
   ]
  },
  {
   "cell_type": "code",
   "execution_count": 7,
   "metadata": {
    "execution": {
     "iopub.execute_input": "2023-09-13T15:31:27.932214Z",
     "iopub.status.busy": "2023-09-13T15:31:27.931876Z",
     "iopub.status.idle": "2023-09-13T15:31:27.970773Z",
     "shell.execute_reply": "2023-09-13T15:31:27.969307Z",
     "shell.execute_reply.started": "2023-09-13T15:31:27.932178Z"
    }
   },
   "outputs": [
    {
     "name": "stdout",
     "output_type": "stream",
     "text": [
      "<class 'pandas.core.frame.DataFrame'>\n",
      "RangeIndex: 1009 entries, 0 to 1008\n",
      "Data columns (total 7 columns):\n",
      " #   Column     Non-Null Count  Dtype  \n",
      "---  ------     --------------  -----  \n",
      " 0   Date       1009 non-null   object \n",
      " 1   Open       1009 non-null   float64\n",
      " 2   High       1009 non-null   float64\n",
      " 3   Low        1009 non-null   float64\n",
      " 4   Close      1009 non-null   float64\n",
      " 5   Adj Close  1009 non-null   float64\n",
      " 6   Volume     1009 non-null   int64  \n",
      "dtypes: float64(5), int64(1), object(1)\n",
      "memory usage: 55.3+ KB\n"
     ]
    }
   ],
   "source": [
    "stock_df.info()"
   ]
  },
  {
   "cell_type": "code",
   "execution_count": 8,
   "metadata": {
    "execution": {
     "iopub.execute_input": "2023-09-13T15:31:27.972774Z",
     "iopub.status.busy": "2023-09-13T15:31:27.972411Z",
     "iopub.status.idle": "2023-09-13T15:31:27.980785Z",
     "shell.execute_reply": "2023-09-13T15:31:27.979568Z",
     "shell.execute_reply.started": "2023-09-13T15:31:27.972745Z"
    }
   },
   "outputs": [
    {
     "data": {
      "text/plain": [
       "Index(['Date', 'Open', 'High', 'Low', 'Close', 'Adj Close', 'Volume'], dtype='object')"
      ]
     },
     "execution_count": 8,
     "metadata": {},
     "output_type": "execute_result"
    }
   ],
   "source": [
    "stock_df.columns"
   ]
  },
  {
   "cell_type": "code",
   "execution_count": 9,
   "metadata": {
    "execution": {
     "iopub.execute_input": "2023-09-13T15:31:27.982973Z",
     "iopub.status.busy": "2023-09-13T15:31:27.982604Z",
     "iopub.status.idle": "2023-09-13T15:31:28.002476Z",
     "shell.execute_reply": "2023-09-13T15:31:28.000434Z",
     "shell.execute_reply.started": "2023-09-13T15:31:27.982942Z"
    }
   },
   "outputs": [
    {
     "data": {
      "text/plain": [
       "<bound method NDFrame.describe of             Date        Open        High         Low       Close   Adj Close  \\\n",
       "0     2018-02-05  262.000000  267.899994  250.029999  254.259995  254.259995   \n",
       "1     2018-02-06  247.699997  266.700012  245.000000  265.720001  265.720001   \n",
       "2     2018-02-07  266.579987  272.450012  264.329987  264.559998  264.559998   \n",
       "3     2018-02-08  267.079987  267.619995  250.000000  250.100006  250.100006   \n",
       "4     2018-02-09  253.850006  255.800003  236.110001  249.470001  249.470001   \n",
       "...          ...         ...         ...         ...         ...         ...   \n",
       "1004  2022-01-31  401.970001  427.700012  398.200012  427.140015  427.140015   \n",
       "1005  2022-02-01  432.959991  458.480011  425.540009  457.130005  457.130005   \n",
       "1006  2022-02-02  448.250000  451.980011  426.480011  429.480011  429.480011   \n",
       "1007  2022-02-03  421.440002  429.260010  404.279999  405.600006  405.600006   \n",
       "1008  2022-02-04  407.309998  412.769989  396.640015  410.170013  410.170013   \n",
       "\n",
       "        Volume  \n",
       "0     11896100  \n",
       "1     12595800  \n",
       "2      8981500  \n",
       "3      9306700  \n",
       "4     16906900  \n",
       "...        ...  \n",
       "1004  20047500  \n",
       "1005  22542300  \n",
       "1006  14346000  \n",
       "1007   9905200  \n",
       "1008   7782400  \n",
       "\n",
       "[1009 rows x 7 columns]>"
      ]
     },
     "execution_count": 9,
     "metadata": {},
     "output_type": "execute_result"
    }
   ],
   "source": [
    "stock_df.describe"
   ]
  },
  {
   "cell_type": "code",
   "execution_count": 10,
   "metadata": {
    "execution": {
     "iopub.execute_input": "2023-09-13T15:31:28.015531Z",
     "iopub.status.busy": "2023-09-13T15:31:28.006000Z",
     "iopub.status.idle": "2023-09-13T15:31:28.434011Z",
     "shell.execute_reply": "2023-09-13T15:31:28.432456Z",
     "shell.execute_reply.started": "2023-09-13T15:31:28.015458Z"
    }
   },
   "outputs": [
    {
     "data": {
      "image/png": "[encoded data removed]",
      "text/plain": [
       "<Figure size 1080x576 with 1 Axes>"
      ]
     },
     "metadata": {
      "needs_background": "light"
     },
     "output_type": "display_data"
    }
   ],
   "source": [
    "plt.figure(figsize=(15,8))\n",
    "plt.plot(stock_df['Low'],color=\"red\",label='Low')\n",
    "plt.plot(stock_df['High'],color=\"green\",label='High')\n",
    "plt.title('Stock Price', fontsize=15)\n",
    "\n",
    "plt.ylabel('Price')\n",
    "plt.show()"
   ]
  },
  {
   "cell_type": "markdown",
   "metadata": {},
   "source": [
    "## Missing Values"
   ]
  },
  {
   "cell_type": "code",
   "execution_count": 11,
   "metadata": {
    "execution": {
     "iopub.execute_input": "2023-09-13T15:31:28.441822Z",
     "iopub.status.busy": "2023-09-13T15:31:28.441112Z",
     "iopub.status.idle": "2023-09-13T15:31:28.452515Z",
     "shell.execute_reply": "2023-09-13T15:31:28.450848Z",
     "shell.execute_reply.started": "2023-09-13T15:31:28.441785Z"
    },
    "scrolled": true
   },
   "outputs": [
    {
     "data": {
      "text/plain": [
       "Date         False\n",
       "Open         False\n",
       "High         False\n",
       "Low          False\n",
       "Close        False\n",
       "Adj Close    False\n",
       "Volume       False\n",
       "dtype: bool"
      ]
     },
     "execution_count": 11,
     "metadata": {},
     "output_type": "execute_result"
    }
   ],
   "source": [
    "stock_df.isna().any()"
   ]
  },
  {
   "cell_type": "markdown",
   "metadata": {},
   "source": [
    "## Duplicates"
   ]
  },
  {
   "cell_type": "code",
   "execution_count": 12,
   "metadata": {
    "execution": {
     "iopub.execute_input": "2023-09-13T15:31:28.454512Z",
     "iopub.status.busy": "2023-09-13T15:31:28.454094Z",
     "iopub.status.idle": "2023-09-13T15:31:28.473658Z",
     "shell.execute_reply": "2023-09-13T15:31:28.472612Z",
     "shell.execute_reply.started": "2023-09-13T15:31:28.454471Z"
    }
   },
   "outputs": [
    {
     "data": {
      "text/plain": [
       "0"
      ]
     },
     "execution_count": 12,
     "metadata": {},
     "output_type": "execute_result"
    }
   ],
   "source": [
    "stock_df.duplicated().sum()"
   ]
  },
  {
   "cell_type": "markdown",
   "metadata": {},
   "source": [
    "## Column Data Type"
   ]
  },
  {
   "cell_type": "code",
   "execution_count": 13,
   "metadata": {
    "execution": {
     "iopub.execute_input": "2023-09-13T15:31:28.475066Z",
     "iopub.status.busy": "2023-09-13T15:31:28.474730Z",
     "iopub.status.idle": "2023-09-13T15:31:28.496458Z",
     "shell.execute_reply": "2023-09-13T15:31:28.495582Z",
     "shell.execute_reply.started": "2023-09-13T15:31:28.475038Z"
    }
   },
   "outputs": [
    {
     "data": {
      "text/plain": [
       "Date          object\n",
       "Open         float64\n",
       "High         float64\n",
       "Low          float64\n",
       "Close        float64\n",
       "Adj Close    float64\n",
       "Volume         int64\n",
       "dtype: object"
      ]
     },
     "execution_count": 13,
     "metadata": {},
     "output_type": "execute_result"
    }
   ],
   "source": [
    "stock_df.dtypes"
   ]
  },
  {
   "cell_type": "markdown",
   "metadata": {},
   "source": [
    "## Outliers"
   ]
  },
  {
   "cell_type": "code",
   "execution_count": 14,
   "metadata": {
    "execution": {
     "iopub.execute_input": "2023-09-13T15:31:28.498262Z",
     "iopub.status.busy": "2023-09-13T15:31:28.497781Z",
     "iopub.status.idle": "2023-09-13T15:31:29.484633Z",
     "shell.execute_reply": "2023-09-13T15:31:29.483462Z",
     "shell.execute_reply.started": "2023-09-13T15:31:28.498233Z"
    },
    "scrolled": true
   },
   "outputs": [
    {
     "data": {
      "image/png": "[encoded data removed]",
      "text/plain": [
       "<Figure size 432x288 with 6 Axes>"
      ]
     },
     "metadata": {
      "needs_background": "light"
     },
     "output_type": "display_data"
    }
   ],
   "source": [
    "plt.subplot(2,3,1)\n",
    "stock_df['Open'].plot(kind='box') \n",
    "\n",
    "plt.subplot(2,3,2)\n",
    "stock_df['Close'].plot(kind='box')\n",
    "\n",
    "plt.subplot(2,3,3)\n",
    "stock_df['Adj Close'].plot(kind='box')\n",
    "\n",
    "plt.subplot(2,3,4)\n",
    "stock_df['High'].plot(kind='box')\n",
    "\n",
    "plt.subplot(2,3,5)\n",
    "stock_df['Low'].plot(kind='box')\n",
    "\n",
    "plt.subplot(2,3,6)\n",
    "stock_df['Volume'].plot(kind='box')\n",
    "\n",
    "plt.tight_layout()"
   ]
  },
  {
   "cell_type": "markdown",
   "metadata": {},
   "source": [
    "## ML MODELING"
   ]
  },
  {
   "cell_type": "code",
   "execution_count": 15,
   "metadata": {
    "execution": {
     "iopub.execute_input": "2023-09-13T15:31:29.486341Z",
     "iopub.status.busy": "2023-09-13T15:31:29.485959Z",
     "iopub.status.idle": "2023-09-13T15:31:29.508841Z",
     "shell.execute_reply": "2023-09-13T15:31:29.507419Z",
     "shell.execute_reply.started": "2023-09-13T15:31:29.486301Z"
    }
   },
   "outputs": [
    {
     "data": {
      "text/html": [
       "<div>\n",
       "<style scoped>\n",
       "    .dataframe tbody tr th:only-of-type {\n",
       "        vertical-align: middle;\n",
       "    }\n",
       "\n",
       "    .dataframe tbody tr th {\n",
       "        vertical-align: top;\n",
       "    }\n",
       "\n",
       "    .dataframe thead th {\n",
       "        text-align: right;\n",
       "    }\n",
       "</style>\n",
       "<table border=\"1\" class=\"dataframe\">\n",
       "  <thead>\n",
       "    <tr style=\"text-align: right;\">\n",
       "      <th></th>\n",
       "      <th>Date</th>\n",
       "      <th>Open</th>\n",
       "      <th>High</th>\n",
       "      <th>Low</th>\n",
       "      <th>Close</th>\n",
       "      <th>Adj Close</th>\n",
       "      <th>Volume</th>\n",
       "    </tr>\n",
       "  </thead>\n",
       "  <tbody>\n",
       "    <tr>\n",
       "      <th>0</th>\n",
       "      <td>2018-02-05</td>\n",
       "      <td>262.000000</td>\n",
       "      <td>267.899994</td>\n",
       "      <td>250.029999</td>\n",
       "      <td>254.259995</td>\n",
       "      <td>254.259995</td>\n",
       "      <td>11896100</td>\n",
       "    </tr>\n",
       "    <tr>\n",
       "      <th>1</th>\n",
       "      <td>2018-02-06</td>\n",
       "      <td>247.699997</td>\n",
       "      <td>266.700012</td>\n",
       "      <td>245.000000</td>\n",
       "      <td>265.720001</td>\n",
       "      <td>265.720001</td>\n",
       "      <td>12595800</td>\n",
       "    </tr>\n",
       "    <tr>\n",
       "      <th>2</th>\n",
       "      <td>2018-02-07</td>\n",
       "      <td>266.579987</td>\n",
       "      <td>272.450012</td>\n",
       "      <td>264.329987</td>\n",
       "      <td>264.559998</td>\n",
       "      <td>264.559998</td>\n",
       "      <td>8981500</td>\n",
       "    </tr>\n",
       "    <tr>\n",
       "      <th>3</th>\n",
       "      <td>2018-02-08</td>\n",
       "      <td>267.079987</td>\n",
       "      <td>267.619995</td>\n",
       "      <td>250.000000</td>\n",
       "      <td>250.100006</td>\n",
       "      <td>250.100006</td>\n",
       "      <td>9306700</td>\n",
       "    </tr>\n",
       "    <tr>\n",
       "      <th>4</th>\n",
       "      <td>2018-02-09</td>\n",
       "      <td>253.850006</td>\n",
       "      <td>255.800003</td>\n",
       "      <td>236.110001</td>\n",
       "      <td>249.470001</td>\n",
       "      <td>249.470001</td>\n",
       "      <td>16906900</td>\n",
       "    </tr>\n",
       "    <tr>\n",
       "      <th>...</th>\n",
       "      <td>...</td>\n",
       "      <td>...</td>\n",
       "      <td>...</td>\n",
       "      <td>...</td>\n",
       "      <td>...</td>\n",
       "      <td>...</td>\n",
       "      <td>...</td>\n",
       "    </tr>\n",
       "    <tr>\n",
       "      <th>1004</th>\n",
       "      <td>2022-01-31</td>\n",
       "      <td>401.970001</td>\n",
       "      <td>427.700012</td>\n",
       "      <td>398.200012</td>\n",
       "      <td>427.140015</td>\n",
       "      <td>427.140015</td>\n",
       "      <td>20047500</td>\n",
       "    </tr>\n",
       "    <tr>\n",
       "      <th>1005</th>\n",
       "      <td>2022-02-01</td>\n",
       "      <td>432.959991</td>\n",
       "      <td>458.480011</td>\n",
       "      <td>425.540009</td>\n",
       "      <td>457.130005</td>\n",
       "      <td>457.130005</td>\n",
       "      <td>22542300</td>\n",
       "    </tr>\n",
       "    <tr>\n",
       "      <th>1006</th>\n",
       "      <td>2022-02-02</td>\n",
       "      <td>448.250000</td>\n",
       "      <td>451.980011</td>\n",
       "      <td>426.480011</td>\n",
       "      <td>429.480011</td>\n",
       "      <td>429.480011</td>\n",
       "      <td>14346000</td>\n",
       "    </tr>\n",
       "    <tr>\n",
       "      <th>1007</th>\n",
       "      <td>2022-02-03</td>\n",
       "      <td>421.440002</td>\n",
       "      <td>429.260010</td>\n",
       "      <td>404.279999</td>\n",
       "      <td>405.600006</td>\n",
       "      <td>405.600006</td>\n",
       "      <td>9905200</td>\n",
       "    </tr>\n",
       "    <tr>\n",
       "      <th>1008</th>\n",
       "      <td>2022-02-04</td>\n",
       "      <td>407.309998</td>\n",
       "      <td>412.769989</td>\n",
       "      <td>396.640015</td>\n",
       "      <td>410.170013</td>\n",
       "      <td>410.170013</td>\n",
       "      <td>7782400</td>\n",
       "    </tr>\n",
       "  </tbody>\n",
       "</table>\n",
       "<p>1009 rows × 7 columns</p>\n",
       "</div>"
      ],
      "text/plain": [
       "            Date        Open        High         Low       Close   Adj Close  \\\n",
       "0     2018-02-05  262.000000  267.899994  250.029999  254.259995  254.259995   \n",
       "1     2018-02-06  247.699997  266.700012  245.000000  265.720001  265.720001   \n",
       "2     2018-02-07  266.579987  272.450012  264.329987  264.559998  264.559998   \n",
       "3     2018-02-08  267.079987  267.619995  250.000000  250.100006  250.100006   \n",
       "4     2018-02-09  253.850006  255.800003  236.110001  249.470001  249.470001   \n",
       "...          ...         ...         ...         ...         ...         ...   \n",
       "1004  2022-01-31  401.970001  427.700012  398.200012  427.140015  427.140015   \n",
       "1005  2022-02-01  432.959991  458.480011  425.540009  457.130005  457.130005   \n",
       "1006  2022-02-02  448.250000  451.980011  426.480011  429.480011  429.480011   \n",
       "1007  2022-02-03  421.440002  429.260010  404.279999  405.600006  405.600006   \n",
       "1008  2022-02-04  407.309998  412.769989  396.640015  410.170013  410.170013   \n",
       "\n",
       "        Volume  \n",
       "0     11896100  \n",
       "1     12595800  \n",
       "2      8981500  \n",
       "3      9306700  \n",
       "4     16906900  \n",
       "...        ...  \n",
       "1004  20047500  \n",
       "1005  22542300  \n",
       "1006  14346000  \n",
       "1007   9905200  \n",
       "1008   7782400  \n",
       "\n",
       "[1009 rows x 7 columns]"
      ]
     },
     "execution_count": 15,
     "metadata": {},
     "output_type": "execute_result"
    }
   ],
   "source": [
    "stock_df"
   ]
  },
  {
   "cell_type": "code",
   "execution_count": 16,
   "metadata": {
    "execution": {
     "iopub.execute_input": "2023-09-13T15:31:29.511030Z",
     "iopub.status.busy": "2023-09-13T15:31:29.510559Z",
     "iopub.status.idle": "2023-09-13T15:31:29.541029Z",
     "shell.execute_reply": "2023-09-13T15:31:29.539813Z",
     "shell.execute_reply.started": "2023-09-13T15:31:29.511001Z"
    }
   },
   "outputs": [
    {
     "data": {
      "text/html": [
       "<div>\n",
       "<style scoped>\n",
       "    .dataframe tbody tr th:only-of-type {\n",
       "        vertical-align: middle;\n",
       "    }\n",
       "\n",
       "    .dataframe tbody tr th {\n",
       "        vertical-align: top;\n",
       "    }\n",
       "\n",
       "    .dataframe thead th {\n",
       "        text-align: right;\n",
       "    }\n",
       "</style>\n",
       "<table border=\"1\" class=\"dataframe\">\n",
       "  <thead>\n",
       "    <tr style=\"text-align: right;\">\n",
       "      <th></th>\n",
       "      <th>Open</th>\n",
       "      <th>High</th>\n",
       "      <th>Low</th>\n",
       "      <th>Close</th>\n",
       "      <th>Adj Close</th>\n",
       "      <th>Volume</th>\n",
       "    </tr>\n",
       "  </thead>\n",
       "  <tbody>\n",
       "    <tr>\n",
       "      <th>0</th>\n",
       "      <td>262.000000</td>\n",
       "      <td>267.899994</td>\n",
       "      <td>250.029999</td>\n",
       "      <td>254.259995</td>\n",
       "      <td>254.259995</td>\n",
       "      <td>11896100</td>\n",
       "    </tr>\n",
       "    <tr>\n",
       "      <th>1</th>\n",
       "      <td>247.699997</td>\n",
       "      <td>266.700012</td>\n",
       "      <td>245.000000</td>\n",
       "      <td>265.720001</td>\n",
       "      <td>265.720001</td>\n",
       "      <td>12595800</td>\n",
       "    </tr>\n",
       "    <tr>\n",
       "      <th>2</th>\n",
       "      <td>266.579987</td>\n",
       "      <td>272.450012</td>\n",
       "      <td>264.329987</td>\n",
       "      <td>264.559998</td>\n",
       "      <td>264.559998</td>\n",
       "      <td>8981500</td>\n",
       "    </tr>\n",
       "    <tr>\n",
       "      <th>3</th>\n",
       "      <td>267.079987</td>\n",
       "      <td>267.619995</td>\n",
       "      <td>250.000000</td>\n",
       "      <td>250.100006</td>\n",
       "      <td>250.100006</td>\n",
       "      <td>9306700</td>\n",
       "    </tr>\n",
       "    <tr>\n",
       "      <th>4</th>\n",
       "      <td>253.850006</td>\n",
       "      <td>255.800003</td>\n",
       "      <td>236.110001</td>\n",
       "      <td>249.470001</td>\n",
       "      <td>249.470001</td>\n",
       "      <td>16906900</td>\n",
       "    </tr>\n",
       "    <tr>\n",
       "      <th>...</th>\n",
       "      <td>...</td>\n",
       "      <td>...</td>\n",
       "      <td>...</td>\n",
       "      <td>...</td>\n",
       "      <td>...</td>\n",
       "      <td>...</td>\n",
       "    </tr>\n",
       "    <tr>\n",
       "      <th>1004</th>\n",
       "      <td>401.970001</td>\n",
       "      <td>427.700012</td>\n",
       "      <td>398.200012</td>\n",
       "      <td>427.140015</td>\n",
       "      <td>427.140015</td>\n",
       "      <td>20047500</td>\n",
       "    </tr>\n",
       "    <tr>\n",
       "      <th>1005</th>\n",
       "      <td>432.959991</td>\n",
       "      <td>458.480011</td>\n",
       "      <td>425.540009</td>\n",
       "      <td>457.130005</td>\n",
       "      <td>457.130005</td>\n",
       "      <td>22542300</td>\n",
       "    </tr>\n",
       "    <tr>\n",
       "      <th>1006</th>\n",
       "      <td>448.250000</td>\n",
       "      <td>451.980011</td>\n",
       "      <td>426.480011</td>\n",
       "      <td>429.480011</td>\n",
       "      <td>429.480011</td>\n",
       "      <td>14346000</td>\n",
       "    </tr>\n",
       "    <tr>\n",
       "      <th>1007</th>\n",
       "      <td>421.440002</td>\n",
       "      <td>429.260010</td>\n",
       "      <td>404.279999</td>\n",
       "      <td>405.600006</td>\n",
       "      <td>405.600006</td>\n",
       "      <td>9905200</td>\n",
       "    </tr>\n",
       "    <tr>\n",
       "      <th>1008</th>\n",
       "      <td>407.309998</td>\n",
       "      <td>412.769989</td>\n",
       "      <td>396.640015</td>\n",
       "      <td>410.170013</td>\n",
       "      <td>410.170013</td>\n",
       "      <td>7782400</td>\n",
       "    </tr>\n",
       "  </tbody>\n",
       "</table>\n",
       "<p>1009 rows × 6 columns</p>\n",
       "</div>"
      ],
      "text/plain": [
       "            Open        High         Low       Close   Adj Close    Volume\n",
       "0     262.000000  267.899994  250.029999  254.259995  254.259995  11896100\n",
       "1     247.699997  266.700012  245.000000  265.720001  265.720001  12595800\n",
       "2     266.579987  272.450012  264.329987  264.559998  264.559998   8981500\n",
       "3     267.079987  267.619995  250.000000  250.100006  250.100006   9306700\n",
       "4     253.850006  255.800003  236.110001  249.470001  249.470001  16906900\n",
       "...          ...         ...         ...         ...         ...       ...\n",
       "1004  401.970001  427.700012  398.200012  427.140015  427.140015  20047500\n",
       "1005  432.959991  458.480011  425.540009  457.130005  457.130005  22542300\n",
       "1006  448.250000  451.980011  426.480011  429.480011  429.480011  14346000\n",
       "1007  421.440002  429.260010  404.279999  405.600006  405.600006   9905200\n",
       "1008  407.309998  412.769989  396.640015  410.170013  410.170013   7782400\n",
       "\n",
       "[1009 rows x 6 columns]"
      ]
     },
     "execution_count": 16,
     "metadata": {},
     "output_type": "execute_result"
    }
   ],
   "source": [
    "X = stock_df.iloc[:, 1:8]\n",
    "X = pd.get_dummies(X)\n",
    "X"
   ]
  },
  {
   "cell_type": "code",
   "execution_count": 17,
   "metadata": {
    "execution": {
     "iopub.execute_input": "2023-09-13T15:31:29.545972Z",
     "iopub.status.busy": "2023-09-13T15:31:29.545591Z",
     "iopub.status.idle": "2023-09-13T15:31:31.207553Z",
     "shell.execute_reply": "2023-09-13T15:31:31.206003Z",
     "shell.execute_reply.started": "2023-09-13T15:31:29.545942Z"
    }
   },
   "outputs": [
    {
     "data": {
      "image/png": "[encoded data removed]",
      "text/plain": [
       "<Figure size 1440x720 with 5 Axes>"
      ]
     },
     "metadata": {
      "needs_background": "light"
     },
     "output_type": "display_data"
    }
   ],
   "source": [
    "features = ['Open', 'High', 'Low', 'Close', 'Volume']\n",
    " \n",
    "plt.subplots(figsize=(20,10))\n",
    " \n",
    "for i, col in enumerate(features):\n",
    "  plt.subplot(2,3,i+1)\n",
    "  sb.distplot(stock_df[col])\n",
    "plt.show()"
   ]
  },
  {
   "cell_type": "code",
   "execution_count": 18,
   "metadata": {
    "execution": {
     "iopub.execute_input": "2023-09-13T15:31:31.209643Z",
     "iopub.status.busy": "2023-09-13T15:31:31.209206Z",
     "iopub.status.idle": "2023-09-13T15:31:31.239466Z",
     "shell.execute_reply": "2023-09-13T15:31:31.238209Z",
     "shell.execute_reply.started": "2023-09-13T15:31:31.209611Z"
    }
   },
   "outputs": [
    {
     "data": {
      "text/html": [
       "<div>\n",
       "<style scoped>\n",
       "    .dataframe tbody tr th:only-of-type {\n",
       "        vertical-align: middle;\n",
       "    }\n",
       "\n",
       "    .dataframe tbody tr th {\n",
       "        vertical-align: top;\n",
       "    }\n",
       "\n",
       "    .dataframe thead th {\n",
       "        text-align: right;\n",
       "    }\n",
       "</style>\n",
       "<table border=\"1\" class=\"dataframe\">\n",
       "  <thead>\n",
       "    <tr style=\"text-align: right;\">\n",
       "      <th></th>\n",
       "      <th>Date</th>\n",
       "      <th>Open</th>\n",
       "      <th>High</th>\n",
       "      <th>Low</th>\n",
       "      <th>Close</th>\n",
       "      <th>Adj Close</th>\n",
       "      <th>Volume</th>\n",
       "      <th>month</th>\n",
       "      <th>year</th>\n",
       "      <th>date</th>\n",
       "    </tr>\n",
       "  </thead>\n",
       "  <tbody>\n",
       "    <tr>\n",
       "      <th>0</th>\n",
       "      <td>2018-02-05</td>\n",
       "      <td>262.000000</td>\n",
       "      <td>267.899994</td>\n",
       "      <td>250.029999</td>\n",
       "      <td>254.259995</td>\n",
       "      <td>254.259995</td>\n",
       "      <td>11896100</td>\n",
       "      <td>2</td>\n",
       "      <td>2018</td>\n",
       "      <td>5</td>\n",
       "    </tr>\n",
       "    <tr>\n",
       "      <th>1</th>\n",
       "      <td>2018-02-06</td>\n",
       "      <td>247.699997</td>\n",
       "      <td>266.700012</td>\n",
       "      <td>245.000000</td>\n",
       "      <td>265.720001</td>\n",
       "      <td>265.720001</td>\n",
       "      <td>12595800</td>\n",
       "      <td>2</td>\n",
       "      <td>2018</td>\n",
       "      <td>6</td>\n",
       "    </tr>\n",
       "    <tr>\n",
       "      <th>2</th>\n",
       "      <td>2018-02-07</td>\n",
       "      <td>266.579987</td>\n",
       "      <td>272.450012</td>\n",
       "      <td>264.329987</td>\n",
       "      <td>264.559998</td>\n",
       "      <td>264.559998</td>\n",
       "      <td>8981500</td>\n",
       "      <td>2</td>\n",
       "      <td>2018</td>\n",
       "      <td>7</td>\n",
       "    </tr>\n",
       "    <tr>\n",
       "      <th>3</th>\n",
       "      <td>2018-02-08</td>\n",
       "      <td>267.079987</td>\n",
       "      <td>267.619995</td>\n",
       "      <td>250.000000</td>\n",
       "      <td>250.100006</td>\n",
       "      <td>250.100006</td>\n",
       "      <td>9306700</td>\n",
       "      <td>2</td>\n",
       "      <td>2018</td>\n",
       "      <td>8</td>\n",
       "    </tr>\n",
       "    <tr>\n",
       "      <th>4</th>\n",
       "      <td>2018-02-09</td>\n",
       "      <td>253.850006</td>\n",
       "      <td>255.800003</td>\n",
       "      <td>236.110001</td>\n",
       "      <td>249.470001</td>\n",
       "      <td>249.470001</td>\n",
       "      <td>16906900</td>\n",
       "      <td>2</td>\n",
       "      <td>2018</td>\n",
       "      <td>9</td>\n",
       "    </tr>\n",
       "  </tbody>\n",
       "</table>\n",
       "</div>"
      ],
      "text/plain": [
       "         Date        Open        High         Low       Close   Adj Close  \\\n",
       "0  2018-02-05  262.000000  267.899994  250.029999  254.259995  254.259995   \n",
       "1  2018-02-06  247.699997  266.700012  245.000000  265.720001  265.720001   \n",
       "2  2018-02-07  266.579987  272.450012  264.329987  264.559998  264.559998   \n",
       "3  2018-02-08  267.079987  267.619995  250.000000  250.100006  250.100006   \n",
       "4  2018-02-09  253.850006  255.800003  236.110001  249.470001  249.470001   \n",
       "\n",
       "     Volume  month  year  date  \n",
       "0  11896100      2  2018     5  \n",
       "1  12595800      2  2018     6  \n",
       "2   8981500      2  2018     7  \n",
       "3   9306700      2  2018     8  \n",
       "4  16906900      2  2018     9  "
      ]
     },
     "execution_count": 18,
     "metadata": {},
     "output_type": "execute_result"
    }
   ],
   "source": [
    "splitted = stock_df['Date'].str.split('-', expand=True)\n",
    " \n",
    "stock_df['month'] = splitted[1].astype('int')\n",
    "stock_df['year'] = splitted[0].astype('int')\n",
    "stock_df['date'] = splitted[2].astype('int')\n",
    " \n",
    "stock_df.head()"
   ]
  },
  {
   "cell_type": "code",
   "execution_count": 19,
   "metadata": {
    "execution": {
     "iopub.execute_input": "2023-09-13T15:31:31.242044Z",
     "iopub.status.busy": "2023-09-13T15:31:31.241385Z",
     "iopub.status.idle": "2023-09-13T15:31:31.253774Z",
     "shell.execute_reply": "2023-09-13T15:31:31.252345Z",
     "shell.execute_reply.started": "2023-09-13T15:31:31.242011Z"
    }
   },
   "outputs": [],
   "source": [
    "#columns_to_drop = [8,9,,17,18] \n",
    "\n",
    "stock_df.drop(stock_df.columns[0], axis=1, inplace=True)"
   ]
  },
  {
   "cell_type": "code",
   "execution_count": 20,
   "metadata": {
    "execution": {
     "iopub.execute_input": "2023-09-13T15:31:31.256525Z",
     "iopub.status.busy": "2023-09-13T15:31:31.255841Z",
     "iopub.status.idle": "2023-09-13T15:31:31.280531Z",
     "shell.execute_reply": "2023-09-13T15:31:31.279500Z",
     "shell.execute_reply.started": "2023-09-13T15:31:31.256478Z"
    }
   },
   "outputs": [
    {
     "data": {
      "text/html": [
       "<div>\n",
       "<style scoped>\n",
       "    .dataframe tbody tr th:only-of-type {\n",
       "        vertical-align: middle;\n",
       "    }\n",
       "\n",
       "    .dataframe tbody tr th {\n",
       "        vertical-align: top;\n",
       "    }\n",
       "\n",
       "    .dataframe thead th {\n",
       "        text-align: right;\n",
       "    }\n",
       "</style>\n",
       "<table border=\"1\" class=\"dataframe\">\n",
       "  <thead>\n",
       "    <tr style=\"text-align: right;\">\n",
       "      <th></th>\n",
       "      <th>Open</th>\n",
       "      <th>High</th>\n",
       "      <th>Low</th>\n",
       "      <th>Close</th>\n",
       "      <th>Adj Close</th>\n",
       "      <th>Volume</th>\n",
       "      <th>month</th>\n",
       "      <th>year</th>\n",
       "      <th>date</th>\n",
       "      <th>is_quarter_end</th>\n",
       "    </tr>\n",
       "  </thead>\n",
       "  <tbody>\n",
       "    <tr>\n",
       "      <th>0</th>\n",
       "      <td>262.000000</td>\n",
       "      <td>267.899994</td>\n",
       "      <td>250.029999</td>\n",
       "      <td>254.259995</td>\n",
       "      <td>254.259995</td>\n",
       "      <td>11896100</td>\n",
       "      <td>2</td>\n",
       "      <td>2018</td>\n",
       "      <td>5</td>\n",
       "      <td>0</td>\n",
       "    </tr>\n",
       "    <tr>\n",
       "      <th>1</th>\n",
       "      <td>247.699997</td>\n",
       "      <td>266.700012</td>\n",
       "      <td>245.000000</td>\n",
       "      <td>265.720001</td>\n",
       "      <td>265.720001</td>\n",
       "      <td>12595800</td>\n",
       "      <td>2</td>\n",
       "      <td>2018</td>\n",
       "      <td>6</td>\n",
       "      <td>0</td>\n",
       "    </tr>\n",
       "    <tr>\n",
       "      <th>2</th>\n",
       "      <td>266.579987</td>\n",
       "      <td>272.450012</td>\n",
       "      <td>264.329987</td>\n",
       "      <td>264.559998</td>\n",
       "      <td>264.559998</td>\n",
       "      <td>8981500</td>\n",
       "      <td>2</td>\n",
       "      <td>2018</td>\n",
       "      <td>7</td>\n",
       "      <td>0</td>\n",
       "    </tr>\n",
       "    <tr>\n",
       "      <th>3</th>\n",
       "      <td>267.079987</td>\n",
       "      <td>267.619995</td>\n",
       "      <td>250.000000</td>\n",
       "      <td>250.100006</td>\n",
       "      <td>250.100006</td>\n",
       "      <td>9306700</td>\n",
       "      <td>2</td>\n",
       "      <td>2018</td>\n",
       "      <td>8</td>\n",
       "      <td>0</td>\n",
       "    </tr>\n",
       "    <tr>\n",
       "      <th>4</th>\n",
       "      <td>253.850006</td>\n",
       "      <td>255.800003</td>\n",
       "      <td>236.110001</td>\n",
       "      <td>249.470001</td>\n",
       "      <td>249.470001</td>\n",
       "      <td>16906900</td>\n",
       "      <td>2</td>\n",
       "      <td>2018</td>\n",
       "      <td>9</td>\n",
       "      <td>0</td>\n",
       "    </tr>\n",
       "  </tbody>\n",
       "</table>\n",
       "</div>"
      ],
      "text/plain": [
       "         Open        High         Low       Close   Adj Close    Volume  \\\n",
       "0  262.000000  267.899994  250.029999  254.259995  254.259995  11896100   \n",
       "1  247.699997  266.700012  245.000000  265.720001  265.720001  12595800   \n",
       "2  266.579987  272.450012  264.329987  264.559998  264.559998   8981500   \n",
       "3  267.079987  267.619995  250.000000  250.100006  250.100006   9306700   \n",
       "4  253.850006  255.800003  236.110001  249.470001  249.470001  16906900   \n",
       "\n",
       "   month  year  date  is_quarter_end  \n",
       "0      2  2018     5               0  \n",
       "1      2  2018     6               0  \n",
       "2      2  2018     7               0  \n",
       "3      2  2018     8               0  \n",
       "4      2  2018     9               0  "
      ]
     },
     "execution_count": 20,
     "metadata": {},
     "output_type": "execute_result"
    }
   ],
   "source": [
    "stock_df['is_quarter_end'] = np.where(stock_df['month']%3==0,1,0)\n",
    "stock_df.head()"
   ]
  },
  {
   "cell_type": "code",
   "execution_count": 21,
   "metadata": {
    "execution": {
     "iopub.execute_input": "2023-09-13T15:31:31.283112Z",
     "iopub.status.busy": "2023-09-13T15:31:31.281897Z",
     "iopub.status.idle": "2023-09-13T15:31:31.296884Z",
     "shell.execute_reply": "2023-09-13T15:31:31.295569Z",
     "shell.execute_reply.started": "2023-09-13T15:31:31.283075Z"
    }
   },
   "outputs": [],
   "source": [
    "df=stock_df"
   ]
  },
  {
   "cell_type": "code",
   "execution_count": 22,
   "metadata": {
    "execution": {
     "iopub.execute_input": "2023-09-13T15:31:31.299563Z",
     "iopub.status.busy": "2023-09-13T15:31:31.298943Z",
     "iopub.status.idle": "2023-09-13T15:31:32.084420Z",
     "shell.execute_reply": "2023-09-13T15:31:32.083086Z",
     "shell.execute_reply.started": "2023-09-13T15:31:31.299517Z"
    }
   },
   "outputs": [
    {
     "data": {
      "image/png": "[encoded data removed]",
      "text/plain": [
       "<Figure size 1440x720 with 4 Axes>"
      ]
     },
     "metadata": {
      "needs_background": "light"
     },
     "output_type": "display_data"
    }
   ],
   "source": [
    "data_grouped = df.groupby('year').nunique()\n",
    "plt.subplots(figsize=(20,10))\n",
    " \n",
    "for i, col in enumerate(['Open', 'High', 'Low', 'Close']):\n",
    "  plt.subplot(2,2,i+1)\n",
    "  data_grouped[col].plot.bar()\n",
    "plt.show()"
   ]
  },
  {
   "cell_type": "code",
   "execution_count": 23,
   "metadata": {
    "execution": {
     "iopub.execute_input": "2023-09-13T15:31:32.086939Z",
     "iopub.status.busy": "2023-09-13T15:31:32.086475Z",
     "iopub.status.idle": "2023-09-13T15:31:32.108934Z",
     "shell.execute_reply": "2023-09-13T15:31:32.107108Z",
     "shell.execute_reply.started": "2023-09-13T15:31:32.086898Z"
    }
   },
   "outputs": [
    {
     "data": {
      "text/html": [
       "<div>\n",
       "<style scoped>\n",
       "    .dataframe tbody tr th:only-of-type {\n",
       "        vertical-align: middle;\n",
       "    }\n",
       "\n",
       "    .dataframe tbody tr th {\n",
       "        vertical-align: top;\n",
       "    }\n",
       "\n",
       "    .dataframe thead th {\n",
       "        text-align: right;\n",
       "    }\n",
       "</style>\n",
       "<table border=\"1\" class=\"dataframe\">\n",
       "  <thead>\n",
       "    <tr style=\"text-align: right;\">\n",
       "      <th></th>\n",
       "      <th>Open</th>\n",
       "      <th>High</th>\n",
       "      <th>Low</th>\n",
       "      <th>Close</th>\n",
       "      <th>Adj Close</th>\n",
       "      <th>Volume</th>\n",
       "      <th>month</th>\n",
       "      <th>year</th>\n",
       "      <th>date</th>\n",
       "    </tr>\n",
       "    <tr>\n",
       "      <th>is_quarter_end</th>\n",
       "      <th></th>\n",
       "      <th></th>\n",
       "      <th></th>\n",
       "      <th></th>\n",
       "      <th></th>\n",
       "      <th></th>\n",
       "      <th></th>\n",
       "      <th></th>\n",
       "      <th></th>\n",
       "    </tr>\n",
       "  </thead>\n",
       "  <tbody>\n",
       "    <tr>\n",
       "      <th>0</th>\n",
       "      <td>652</td>\n",
       "      <td>659</td>\n",
       "      <td>660</td>\n",
       "      <td>663</td>\n",
       "      <td>663</td>\n",
       "      <td>671</td>\n",
       "      <td>8</td>\n",
       "      <td>5</td>\n",
       "      <td>31</td>\n",
       "    </tr>\n",
       "    <tr>\n",
       "      <th>1</th>\n",
       "      <td>333</td>\n",
       "      <td>333</td>\n",
       "      <td>336</td>\n",
       "      <td>335</td>\n",
       "      <td>335</td>\n",
       "      <td>337</td>\n",
       "      <td>4</td>\n",
       "      <td>4</td>\n",
       "      <td>31</td>\n",
       "    </tr>\n",
       "  </tbody>\n",
       "</table>\n",
       "</div>"
      ],
      "text/plain": [
       "                Open  High  Low  Close  Adj Close  Volume  month  year  date\n",
       "is_quarter_end                                                              \n",
       "0                652   659  660    663        663     671      8     5    31\n",
       "1                333   333  336    335        335     337      4     4    31"
      ]
     },
     "execution_count": 23,
     "metadata": {},
     "output_type": "execute_result"
    }
   ],
   "source": [
    "df.groupby('is_quarter_end').nunique()"
   ]
  },
  {
   "cell_type": "code",
   "execution_count": 24,
   "metadata": {
    "execution": {
     "iopub.execute_input": "2023-09-13T15:31:32.110616Z",
     "iopub.status.busy": "2023-09-13T15:31:32.110237Z",
     "iopub.status.idle": "2023-09-13T15:31:32.119959Z",
     "shell.execute_reply": "2023-09-13T15:31:32.118646Z",
     "shell.execute_reply.started": "2023-09-13T15:31:32.110588Z"
    }
   },
   "outputs": [],
   "source": [
    "df['open-close'] = df['Open'] - df['Close']\n",
    "df['low-high'] = df['Low'] - df['High']\n",
    "df['target'] = np.where(df['Close'].shift(-1) > df['Close'], 1, 0)"
   ]
  },
  {
   "cell_type": "code",
   "execution_count": 25,
   "metadata": {
    "execution": {
     "iopub.execute_input": "2023-09-13T15:31:32.122415Z",
     "iopub.status.busy": "2023-09-13T15:31:32.121700Z",
     "iopub.status.idle": "2023-09-13T15:31:32.259873Z",
     "shell.execute_reply": "2023-09-13T15:31:32.258369Z",
     "shell.execute_reply.started": "2023-09-13T15:31:32.122370Z"
    }
   },
   "outputs": [
    {
     "data": {
      "image/png": "[encoded data removed]",
      "text/plain": [
       "<Figure size 432x288 with 1 Axes>"
      ]
     },
     "metadata": {},
     "output_type": "display_data"
    }
   ],
   "source": [
    "plt.pie(df['target'].value_counts().values,labels=[0, 1], autopct='%1.1f%%')\n",
    "plt.show()"
   ]
  },
  {
   "cell_type": "markdown",
   "metadata": {},
   "source": [
    "### Correlation"
   ]
  },
  {
   "cell_type": "code",
   "execution_count": 26,
   "metadata": {
    "execution": {
     "iopub.execute_input": "2023-09-13T15:31:32.263577Z",
     "iopub.status.busy": "2023-09-13T15:31:32.262469Z",
     "iopub.status.idle": "2023-09-13T15:31:33.157846Z",
     "shell.execute_reply": "2023-09-13T15:31:33.156949Z",
     "shell.execute_reply.started": "2023-09-13T15:31:32.263521Z"
    }
   },
   "outputs": [
    {
     "data": {
      "image/png": "[encoded data removed]",
      "text/plain": [
       "<Figure size 1080x720 with 2 Axes>"
      ]
     },
     "metadata": {
      "needs_background": "light"
     },
     "output_type": "display_data"
    }
   ],
   "source": [
    "plt.figure(figsize=(15, 10))\n",
    "sb.heatmap(df.corr(), annot=True)\n",
    "plt.show()"
   ]
  },
  {
   "cell_type": "markdown",
   "metadata": {},
   "source": [
    "## DATA SPLITTING AND NORMALISING"
   ]
  },
  {
   "cell_type": "code",
   "execution_count": 27,
   "metadata": {
    "execution": {
     "iopub.execute_input": "2023-09-13T15:31:33.160032Z",
     "iopub.status.busy": "2023-09-13T15:31:33.159397Z",
     "iopub.status.idle": "2023-09-13T15:31:33.172208Z",
     "shell.execute_reply": "2023-09-13T15:31:33.171032Z",
     "shell.execute_reply.started": "2023-09-13T15:31:33.160000Z"
    }
   },
   "outputs": [
    {
     "data": {
      "text/plain": [
       "array([[0.04451626],\n",
       "       [0.06954849],\n",
       "       [0.06701469],\n",
       "       ...,\n",
       "       [0.4272515 ],\n",
       "       [0.37509011],\n",
       "       [0.38507243]])"
      ]
     },
     "execution_count": 27,
     "metadata": {},
     "output_type": "execute_result"
    }
   ],
   "source": [
    "data=df.filter(['Close'])\n",
    "dataset=data.values\n",
    "training_data_len=math.ceil(len(dataset)*0.8)\n",
    "training_data_len\n",
    "training_data_len\n",
    "\n",
    "scaler=MinMaxScaler(feature_range=(0,1))\n",
    "scaled_data=scaler.fit_transform(dataset)\n",
    "scaled_data"
   ]
  },
  {
   "cell_type": "code",
   "execution_count": 28,
   "metadata": {
    "execution": {
     "iopub.execute_input": "2023-09-13T15:31:33.174740Z",
     "iopub.status.busy": "2023-09-13T15:31:33.174258Z",
     "iopub.status.idle": "2023-09-13T15:31:33.190173Z",
     "shell.execute_reply": "2023-09-13T15:31:33.188841Z",
     "shell.execute_reply.started": "2023-09-13T15:31:33.174702Z"
    }
   },
   "outputs": [
    {
     "name": "stdout",
     "output_type": "stream",
     "text": [
      "[array([0.04451626, 0.06954849, 0.06701469, 0.03542955, 0.03405342,\n",
      "       0.05257641, 0.05327534, 0.0701601 , 0.10133021, 0.09750767,\n",
      "       0.09757319, 0.10301218, 0.09667768, 0.11369343, 0.13167034,\n",
      "       0.12391599, 0.12559796, 0.12343551, 0.14672022, 0.1771914 ,\n",
      "       0.19951508, 0.19064677, 0.18156003, 0.2131015 , 0.19095254,\n",
      "       0.17911361, 0.19149862, 0.19049385, 0.18472731, 0.17387127,\n",
      "       0.18265218, 0.18042421, 0.15906164, 0.14647998, 0.18887749,\n",
      "       0.1459339 , 0.11334393, 0.13426968, 0.10137394, 0.10875693,\n",
      "       0.12026823, 0.13125532, 0.12007165, 0.12243068, 0.14021101,\n",
      "       0.15244317, 0.16463161, 0.16987394, 0.16142066, 0.22319301,\n",
      "       0.21982915, 0.21585376, 0.20508505, 0.18525152, 0.15976057,\n",
      "       0.15700838, 0.17496343, 0.17011425, 0.17164323, 0.17347804])]\n",
      "[0.17360909661393864]\n",
      "\n",
      "[array([0.04451626, 0.06954849, 0.06701469, 0.03542955, 0.03405342,\n",
      "       0.05257641, 0.05327534, 0.0701601 , 0.10133021, 0.09750767,\n",
      "       0.09757319, 0.10301218, 0.09667768, 0.11369343, 0.13167034,\n",
      "       0.12391599, 0.12559796, 0.12343551, 0.14672022, 0.1771914 ,\n",
      "       0.19951508, 0.19064677, 0.18156003, 0.2131015 , 0.19095254,\n",
      "       0.17911361, 0.19149862, 0.19049385, 0.18472731, 0.17387127,\n",
      "       0.18265218, 0.18042421, 0.15906164, 0.14647998, 0.18887749,\n",
      "       0.1459339 , 0.11334393, 0.13426968, 0.10137394, 0.10875693,\n",
      "       0.12026823, 0.13125532, 0.12007165, 0.12243068, 0.14021101,\n",
      "       0.15244317, 0.16463161, 0.16987394, 0.16142066, 0.22319301,\n",
      "       0.21982915, 0.21585376, 0.20508505, 0.18525152, 0.15976057,\n",
      "       0.15700838, 0.17496343, 0.17011425, 0.17164323, 0.17347804]), array([0.06954849, 0.06701469, 0.03542955, 0.03405342, 0.05257641,\n",
      "       0.05327534, 0.0701601 , 0.10133021, 0.09750767, 0.09757319,\n",
      "       0.10301218, 0.09667768, 0.11369343, 0.13167034, 0.12391599,\n",
      "       0.12559796, 0.12343551, 0.14672022, 0.1771914 , 0.19951508,\n",
      "       0.19064677, 0.18156003, 0.2131015 , 0.19095254, 0.17911361,\n",
      "       0.19149862, 0.19049385, 0.18472731, 0.17387127, 0.18265218,\n",
      "       0.18042421, 0.15906164, 0.14647998, 0.18887749, 0.1459339 ,\n",
      "       0.11334393, 0.13426968, 0.10137394, 0.10875693, 0.12026823,\n",
      "       0.13125532, 0.12007165, 0.12243068, 0.14021101, 0.15244317,\n",
      "       0.16463161, 0.16987394, 0.16142066, 0.22319301, 0.21982915,\n",
      "       0.21585376, 0.20508505, 0.18525152, 0.15976057, 0.15700838,\n",
      "       0.17496343, 0.17011425, 0.17164323, 0.17347804, 0.1736091 ])]\n",
      "[0.17360909661393864, 0.16996133223364263]\n",
      "\n"
     ]
    }
   ],
   "source": [
    "train_data=scaled_data[0:training_data_len,:]\n",
    "x_train=[]\n",
    "y_train=[]\n",
    "\n",
    "for i in range (60,len(train_data)):\n",
    "    x_train.append(train_data[i-60:i,0])\n",
    "    y_train.append(train_data[i,0])\n",
    "    if i<=61:\n",
    "        print(x_train)\n",
    "        print(y_train)\n",
    "        print()"
   ]
  },
  {
   "cell_type": "code",
   "execution_count": 29,
   "metadata": {
    "execution": {
     "iopub.execute_input": "2023-09-13T15:31:33.197015Z",
     "iopub.status.busy": "2023-09-13T15:31:33.196602Z",
     "iopub.status.idle": "2023-09-13T15:31:33.211401Z",
     "shell.execute_reply": "2023-09-13T15:31:33.209771Z",
     "shell.execute_reply.started": "2023-09-13T15:31:33.196983Z"
    }
   },
   "outputs": [
    {
     "data": {
      "text/plain": [
       "(748, 60, 1)"
      ]
     },
     "execution_count": 29,
     "metadata": {},
     "output_type": "execute_result"
    }
   ],
   "source": [
    "x_train,y_train=np.array(x_train),np.array(y_train)\n",
    "\n",
    "x_train=np.reshape(x_train,(x_train.shape[0],x_train.shape[1],1))\n",
    "x_train.shape"
   ]
  },
  {
   "cell_type": "code",
   "execution_count": 30,
   "metadata": {
    "execution": {
     "iopub.execute_input": "2023-09-13T15:31:33.213909Z",
     "iopub.status.busy": "2023-09-13T15:31:33.213414Z",
     "iopub.status.idle": "2023-09-13T15:31:34.311492Z",
     "shell.execute_reply": "2023-09-13T15:31:34.310047Z",
     "shell.execute_reply.started": "2023-09-13T15:31:33.213867Z"
    }
   },
   "outputs": [],
   "source": [
    "model=Sequential()\n",
    "model.add(LSTM(50,return_sequences=True,input_shape=(x_train.shape[1],1)))\n",
    "model.add(LSTM(50,return_sequences=False))\n",
    "model.add(Dense(25))\n",
    "model.add(Dense(1))"
   ]
  },
  {
   "cell_type": "code",
   "execution_count": 31,
   "metadata": {
    "execution": {
     "iopub.execute_input": "2023-09-13T15:31:34.313508Z",
     "iopub.status.busy": "2023-09-13T15:31:34.313127Z",
     "iopub.status.idle": "2023-09-13T15:32:04.699190Z",
     "shell.execute_reply": "2023-09-13T15:32:04.698206Z",
     "shell.execute_reply.started": "2023-09-13T15:31:34.313475Z"
    }
   },
   "outputs": [
    {
     "name": "stdout",
     "output_type": "stream",
     "text": [
      "748/748 [==============================] - 39s 44ms/step - loss: 0.0030\n"
     ]
    },
    {
     "data": {
      "text/plain": [
       "<keras.src.callbacks.History at 0x28d72b69640>"
      ]
     },
     "execution_count": 31,
     "metadata": {},
     "output_type": "execute_result"
    }
   ],
   "source": [
    "model.compile(optimizer='adam',loss='mean_squared_error')\n",
    "\n",
    "model.fit(x_train,y_train,batch_size=1,epochs=1)"
   ]
  },
  {
   "cell_type": "code",
   "execution_count": 32,
   "metadata": {
    "execution": {
     "iopub.execute_input": "2023-09-13T15:32:04.703244Z",
     "iopub.status.busy": "2023-09-13T15:32:04.700838Z",
     "iopub.status.idle": "2023-09-13T15:32:04.710224Z",
     "shell.execute_reply": "2023-09-13T15:32:04.709064Z",
     "shell.execute_reply.started": "2023-09-13T15:32:04.703199Z"
    }
   },
   "outputs": [],
   "source": [
    "test_data=scaled_data[training_data_len-60:,:]\n",
    "\n",
    "x_test=[]\n",
    "y_test=dataset[training_data_len:, :]\n",
    "for i in range (60,len(test_data)):\n",
    "    x_test.append(test_data[i-60:i,0])"
   ]
  },
  {
   "cell_type": "code",
   "execution_count": 33,
   "metadata": {
    "execution": {
     "iopub.execute_input": "2023-09-13T15:32:04.713733Z",
     "iopub.status.busy": "2023-09-13T15:32:04.712577Z",
     "iopub.status.idle": "2023-09-13T15:32:04.741439Z",
     "shell.execute_reply": "2023-09-13T15:32:04.739915Z",
     "shell.execute_reply.started": "2023-09-13T15:32:04.713680Z"
    }
   },
   "outputs": [],
   "source": [
    "x_test=np.array(x_test)\n",
    "x_test=np.reshape(x_test,(x_test.shape[0],x_test.shape[1],1))"
   ]
  },
  {
   "cell_type": "code",
   "execution_count": 34,
   "metadata": {
    "execution": {
     "iopub.execute_input": "2023-09-13T15:32:04.744467Z",
     "iopub.status.busy": "2023-09-13T15:32:04.743347Z",
     "iopub.status.idle": "2023-09-13T15:32:05.924385Z",
     "shell.execute_reply": "2023-09-13T15:32:05.923363Z",
     "shell.execute_reply.started": "2023-09-13T15:32:04.744420Z"
    }
   },
   "outputs": [
    {
     "name": "stdout",
     "output_type": "stream",
     "text": [
      "7/7 [==============================] - 2s 27ms/step\n",
      "[[557.6392 ]\n",
      " [549.75806]\n",
      " [541.7546 ]\n",
      " [535.6243 ]\n",
      " [530.45264]\n",
      " [526.66516]\n",
      " [524.43353]\n",
      " [523.90717]\n",
      " [523.5192 ]\n",
      " [522.36304]\n",
      " [519.96063]\n",
      " [517.9164 ]\n",
      " [516.9474 ]\n",
      " [513.9063 ]\n",
      " [511.78137]\n",
      " [508.73166]\n",
      " [506.0255 ]\n",
      " [504.86993]\n",
      " [503.84256]\n",
      " [502.6372 ]\n",
      " [501.75018]\n",
      " [503.26666]\n",
      " [504.96756]\n",
      " [507.3067 ]\n",
      " [509.31207]\n",
      " [511.03778]\n",
      " [512.60187]\n",
      " [513.68494]\n",
      " [513.8176 ]\n",
      " [513.54706]\n",
      " [511.608  ]\n",
      " [510.0841 ]\n",
      " [508.91052]\n",
      " [507.7187 ]\n",
      " [505.69455]\n",
      " [503.85892]\n",
      " [502.59146]\n",
      " [503.471  ]\n",
      " [503.8916 ]\n",
      " [504.18658]\n",
      " [505.28983]\n",
      " [506.93182]\n",
      " [507.98312]\n",
      " [510.46793]\n",
      " [513.7624 ]\n",
      " [517.7484 ]\n",
      " [522.8324 ]\n",
      " [528.5385 ]\n",
      " [533.7297 ]\n",
      " [537.10754]\n",
      " [540.0494 ]\n",
      " [542.39   ]\n",
      " [545.3186 ]\n",
      " [547.1422 ]\n",
      " [547.4518 ]\n",
      " [547.9041 ]\n",
      " [548.5268 ]\n",
      " [549.66766]\n",
      " [552.0008 ]\n",
      " [553.702  ]\n",
      " [552.95294]\n",
      " [551.64026]\n",
      " [550.0569 ]\n",
      " [545.8787 ]\n",
      " [541.011  ]\n",
      " [537.1184 ]\n",
      " [534.37085]\n",
      " [532.9157 ]\n",
      " [532.3046 ]\n",
      " [531.38116]\n",
      " [531.0094 ]\n",
      " [530.5328 ]\n",
      " [529.42084]\n",
      " [529.22546]\n",
      " [530.58386]\n",
      " [531.7102 ]\n",
      " [532.51184]\n",
      " [532.40375]\n",
      " [531.38995]\n",
      " [529.8704 ]\n",
      " [529.15546]\n",
      " [529.1713 ]\n",
      " [529.6543 ]\n",
      " [530.73157]\n",
      " [535.2985 ]\n",
      " [541.1034 ]\n",
      " [547.617  ]\n",
      " [553.46124]\n",
      " [557.23486]\n",
      " [559.9702 ]\n",
      " [563.1914 ]\n",
      " [567.2234 ]\n",
      " [571.4475 ]\n",
      " [577.15247]\n",
      " [583.5986 ]\n",
      " [589.6975 ]\n",
      " [597.2983 ]\n",
      " [604.1962 ]\n",
      " [608.43744]\n",
      " [611.1574 ]\n",
      " [611.2983 ]\n",
      " [608.55884]\n",
      " [605.891  ]\n",
      " [604.1819 ]\n",
      " [603.59045]\n",
      " [601.3763 ]\n",
      " [598.5747 ]\n",
      " [598.7286 ]\n",
      " [600.4235 ]\n",
      " [602.41724]\n",
      " [604.3143 ]\n",
      " [604.4999 ]\n",
      " [606.40045]\n",
      " [610.41064]\n",
      " [615.1057 ]\n",
      " [617.8338 ]\n",
      " [624.3917 ]\n",
      " [632.0157 ]\n",
      " [637.7917 ]\n",
      " [642.1045 ]\n",
      " [644.2176 ]\n",
      " [644.7753 ]\n",
      " [645.35925]\n",
      " [646.4646 ]\n",
      " [646.72455]\n",
      " [648.20245]\n",
      " [650.062  ]\n",
      " [649.6073 ]\n",
      " [652.85754]\n",
      " [658.78845]\n",
      " [666.00586]\n",
      " [672.14264]\n",
      " [676.0361 ]\n",
      " [680.21814]\n",
      " [686.3677 ]\n",
      " [690.7922 ]\n",
      " [693.3781 ]\n",
      " [696.5207 ]\n",
      " [696.1046 ]\n",
      " [690.833  ]\n",
      " [685.4571 ]\n",
      " [681.49005]\n",
      " [677.2362 ]\n",
      " [675.3453 ]\n",
      " [678.66376]\n",
      " [682.9525 ]\n",
      " [688.38947]\n",
      " [694.10333]\n",
      " [697.47186]\n",
      " [698.9154 ]\n",
      " [696.1811 ]\n",
      " [691.46094]\n",
      " [687.313  ]\n",
      " [685.1566 ]\n",
      " [683.81995]\n",
      " [679.56085]\n",
      " [671.08075]\n",
      " [662.10333]\n",
      " [651.9427 ]\n",
      " [644.62335]\n",
      " [641.55725]\n",
      " [641.0803 ]\n",
      " [639.07935]\n",
      " [637.00275]\n",
      " [634.03754]\n",
      " [630.1336 ]\n",
      " [627.5627 ]\n",
      " [623.63586]\n",
      " [619.14215]\n",
      " [616.193  ]\n",
      " [616.03955]\n",
      " [618.4997 ]\n",
      " [621.6291 ]\n",
      " [624.43243]\n",
      " [626.28644]\n",
      " [627.42456]\n",
      " [628.3052 ]\n",
      " [627.37305]\n",
      " [625.0657 ]\n",
      " [621.5429 ]\n",
      " [614.30725]\n",
      " [604.4876 ]\n",
      " [593.16187]\n",
      " [582.7434 ]\n",
      " [574.4031 ]\n",
      " [567.62573]\n",
      " [559.74585]\n",
      " [553.69403]\n",
      " [546.93427]\n",
      " [541.744  ]\n",
      " [536.7563 ]\n",
      " [515.47473]\n",
      " [489.25983]\n",
      " [461.3612 ]\n",
      " [435.68713]\n",
      " [418.60477]\n",
      " [407.3266 ]\n",
      " [406.65662]\n",
      " [415.308  ]\n",
      " [422.83524]\n",
      " [425.28525]]\n"
     ]
    }
   ],
   "source": [
    "predictions=model.predict(x_test)\n",
    "predictions=scaler.inverse_transform(predictions)\n",
    "print(predictions)"
   ]
  },
  {
   "cell_type": "code",
   "execution_count": 35,
   "metadata": {
    "execution": {
     "iopub.execute_input": "2023-09-13T15:32:05.927322Z",
     "iopub.status.busy": "2023-09-13T15:32:05.925927Z",
     "iopub.status.idle": "2023-09-13T15:32:05.934586Z",
     "shell.execute_reply": "2023-09-13T15:32:05.933600Z",
     "shell.execute_reply.started": "2023-09-13T15:32:05.927282Z"
    }
   },
   "outputs": [
    {
     "data": {
      "text/plain": [
       "17.51605404592273"
      ]
     },
     "execution_count": 35,
     "metadata": {},
     "output_type": "execute_result"
    }
   ],
   "source": [
    "rmse=np.sqrt(np.mean(predictions-y_test)**2)\n",
    "rmse"
   ]
  },
  {
   "cell_type": "code",
   "execution_count": 36,
   "metadata": {
    "execution": {
     "iopub.execute_input": "2023-09-13T15:32:05.938426Z",
     "iopub.status.busy": "2023-09-13T15:32:05.938033Z",
     "iopub.status.idle": "2023-09-13T15:32:06.269367Z",
     "shell.execute_reply": "2023-09-13T15:32:06.267780Z",
     "shell.execute_reply.started": "2023-09-13T15:32:05.938394Z"
    }
   },
   "outputs": [
    {
     "data": {
      "image/png": "[encoded data removed]",
      "text/plain": [
       "<Figure size 1080x360 with 1 Axes>"
      ]
     },
     "metadata": {
      "needs_background": "light"
     },
     "output_type": "display_data"
    }
   ],
   "source": [
    "\n",
    "train=data[:training_data_len]\n",
    "valid=data[training_data_len:]\n",
    "valid['predictions']=predictions\n",
    "\n",
    "plt.figure(figsize=(15,5))\n",
    "plt.title('Model')\n",
    "plt.xlabel('date',fontsize=18)\n",
    "plt.ylabel('close price',fontsize=18)\n",
    "plt.plot(train['Close'])\n",
    "plt.plot(valid[['Close','predictions']])\n",
    "plt.legend(['train','val','prediction'],loc='lower right')\n",
    "plt.show()"
   ]
  },
  {
   "cell_type": "markdown",
   "metadata": {},
   "source": [
    "Here the **Green line** depict Predicted values where as **Yellow line** depicts the actual value. "
   ]
  },
  {
   "cell_type": "code",
   "execution_count": 37,
   "metadata": {
    "execution": {
     "iopub.execute_input": "2023-09-13T15:32:06.271984Z",
     "iopub.status.busy": "2023-09-13T15:32:06.271294Z",
     "iopub.status.idle": "2023-09-13T15:32:06.288805Z",
     "shell.execute_reply": "2023-09-13T15:32:06.287319Z",
     "shell.execute_reply.started": "2023-09-13T15:32:06.271930Z"
    }
   },
   "outputs": [
    {
     "data": {
      "text/html": [
       "<div>\n",
       "<style scoped>\n",
       "    .dataframe tbody tr th:only-of-type {\n",
       "        vertical-align: middle;\n",
       "    }\n",
       "\n",
       "    .dataframe tbody tr th {\n",
       "        vertical-align: top;\n",
       "    }\n",
       "\n",
       "    .dataframe thead th {\n",
       "        text-align: right;\n",
       "    }\n",
       "</style>\n",
       "<table border=\"1\" class=\"dataframe\">\n",
       "  <thead>\n",
       "    <tr style=\"text-align: right;\">\n",
       "      <th></th>\n",
       "      <th>Close</th>\n",
       "      <th>predictions</th>\n",
       "    </tr>\n",
       "  </thead>\n",
       "  <tbody>\n",
       "    <tr>\n",
       "      <th>808</th>\n",
       "      <td>508.779999</td>\n",
       "      <td>557.639221</td>\n",
       "    </tr>\n",
       "    <tr>\n",
       "      <th>809</th>\n",
       "      <td>505.549988</td>\n",
       "      <td>549.758057</td>\n",
       "    </tr>\n",
       "    <tr>\n",
       "      <th>810</th>\n",
       "      <td>510.299988</td>\n",
       "      <td>541.754578</td>\n",
       "    </tr>\n",
       "    <tr>\n",
       "      <th>811</th>\n",
       "      <td>505.549988</td>\n",
       "      <td>535.624329</td>\n",
       "    </tr>\n",
       "    <tr>\n",
       "      <th>812</th>\n",
       "      <td>506.519989</td>\n",
       "      <td>530.452637</td>\n",
       "    </tr>\n",
       "    <tr>\n",
       "      <th>...</th>\n",
       "      <td>...</td>\n",
       "      <td>...</td>\n",
       "    </tr>\n",
       "    <tr>\n",
       "      <th>1004</th>\n",
       "      <td>427.140015</td>\n",
       "      <td>407.326599</td>\n",
       "    </tr>\n",
       "    <tr>\n",
       "      <th>1005</th>\n",
       "      <td>457.130005</td>\n",
       "      <td>406.656616</td>\n",
       "    </tr>\n",
       "    <tr>\n",
       "      <th>1006</th>\n",
       "      <td>429.480011</td>\n",
       "      <td>415.308014</td>\n",
       "    </tr>\n",
       "    <tr>\n",
       "      <th>1007</th>\n",
       "      <td>405.600006</td>\n",
       "      <td>422.835236</td>\n",
       "    </tr>\n",
       "    <tr>\n",
       "      <th>1008</th>\n",
       "      <td>410.170013</td>\n",
       "      <td>425.285248</td>\n",
       "    </tr>\n",
       "  </tbody>\n",
       "</table>\n",
       "<p>201 rows × 2 columns</p>\n",
       "</div>"
      ],
      "text/plain": [
       "           Close  predictions\n",
       "808   508.779999   557.639221\n",
       "809   505.549988   549.758057\n",
       "810   510.299988   541.754578\n",
       "811   505.549988   535.624329\n",
       "812   506.519989   530.452637\n",
       "...          ...          ...\n",
       "1004  427.140015   407.326599\n",
       "1005  457.130005   406.656616\n",
       "1006  429.480011   415.308014\n",
       "1007  405.600006   422.835236\n",
       "1008  410.170013   425.285248\n",
       "\n",
       "[201 rows x 2 columns]"
      ]
     },
     "execution_count": 37,
     "metadata": {},
     "output_type": "execute_result"
    }
   ],
   "source": [
    "valid"
   ]
  },
  {
   "cell_type": "markdown",
   "metadata": {},
   "source": [
    "We can observe that the accuracy achieved by the ML model is no better than simply guessing with a probability of 50%. Possible reasons for this may be the lack of data or using a very simple model to perform such a complex task as Stock Market Price prediction."
   ]
  }
 ],
 "metadata": {
  "kernelspec": {
   "display_name": "Python 3 (ipykernel)",
   "language": "python",
   "name": "python3"
  },
  "language_info": {
   "codemirror_mode": {
    "name": "ipython",
    "version": 3
   },
   "file_extension": ".py",
   "mimetype": "text/x-python",
   "name": "python",
   "nbconvert_exporter": "python",
   "pygments_lexer": "ipython3",
   "version": "3.9.12"
  }
 },
 "nbformat": 4,
 "nbformat_minor": 4
}
